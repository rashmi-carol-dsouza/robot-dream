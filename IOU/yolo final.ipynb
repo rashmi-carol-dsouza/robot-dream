{
 "cells": [
  {
   "cell_type": "markdown",
   "metadata": {
    "id": "01ALbgM5dTbr"
   },
   "source": [
    "Importing necessary libraries"
   ]
  },
  {
   "cell_type": "code",
   "execution_count": 2,
   "metadata": {
    "id": "ABB6KxaL4eYX"
   },
   "outputs": [],
   "source": [
    "import pandas as pd\n",
    "import numpy as np\n",
    "import numba\n",
    "import re\n",
    "import cv2\n",
    "import ast\n",
    "import matplotlib.pyplot as plt\n",
    "\n",
    "from numba import jit\n",
    "from typing import List, Union, Tuple"
   ]
  },
  {
   "cell_type": "markdown",
   "metadata": {
    "id": "HDvxZoXsdaKp"
   },
   "source": [
    "Function to calculate IoU"
   ]
  },
  {
   "cell_type": "code",
   "execution_count": 3,
   "metadata": {
    "id": "p6GD4ga-4k_g"
   },
   "outputs": [],
   "source": [
    "@jit(nopython=True)\n",
    "def calculate_iou(gt, pr, form='pascal_voc') -> float:\n",
    "    \"\"\"Calculates the Intersection over Union.\n",
    "\n",
    "    Args:\n",
    "        gt: (np.ndarray[Union[int, float]]) coordinates of the ground-truth box\n",
    "        pr: (np.ndarray[Union[int, float]]) coordinates of the prdected box\n",
    "        form: (str) gt/pred coordinates format\n",
    "            - pascal_voc: [xmin, ymin, xmax, ymax]\n",
    "            - coco: [xmin, ymin, w, h]\n",
    "    Returns:\n",
    "        (float) Intersection over union (0.0 <= iou <= 1.0)\n",
    "    \"\"\"\n",
    "    if form == 'coco':\n",
    "        gt = gt.copy()\n",
    "        pr = pr.copy()\n",
    "\n",
    "        gt[2] = gt[0] + gt[2]\n",
    "        gt[3] = gt[1] + gt[3]\n",
    "        pr[2] = pr[0] + pr[2]\n",
    "        pr[3] = pr[1] + pr[3]\n",
    "\n",
    "    # Calculate overlap area\n",
    "    dx = min(gt[2], pr[2]) - max(gt[0], pr[0]) + 1\n",
    "    \n",
    "    if dx < 0:\n",
    "        return 0.0\n",
    "    \n",
    "    dy = min(gt[3], pr[3]) - max(gt[1], pr[1]) + 1\n",
    "\n",
    "    if dy < 0:\n",
    "        return 0.0\n",
    "\n",
    "    overlap_area = dx * dy\n",
    "\n",
    "    # Calculate union area\n",
    "    union_area = (\n",
    "            (gt[2] - gt[0] + 1) * (gt[3] - gt[1] + 1) +\n",
    "            (pr[2] - pr[0] + 1) * (pr[3] - pr[1] + 1) -\n",
    "            overlap_area\n",
    "    )\n",
    "\n",
    "    return overlap_area / union_area"
   ]
  },
  {
   "cell_type": "markdown",
   "metadata": {
    "id": "T3ItcWtddkuG"
   },
   "source": [
    "Enter the bounding box for the ground truth (box 1) followed by the bounding box of the predicted model(box 2)"
   ]
  },
  {
   "cell_type": "markdown",
   "metadata": {},
   "source": [
    "### Image - lucas-hoang-rquNBlHgSWg-unsplash_jpg.rf.44d9d1748a02fdd36348b92739b7d130.jpg"
   ]
  },
  {
   "cell_type": "code",
   "execution_count": 18,
   "metadata": {
    "id": "fwuwa_nD-MKA"
   },
   "outputs": [
    {
     "data": {
      "text/plain": [
       "0.9432567932535302"
      ]
     },
     "execution_count": 18,
     "metadata": {},
     "output_type": "execute_result"
    }
   ],
   "source": [
    "box1 = np.array([0,0,401.39,337.78])\n",
    "box2 = np.array([4,3,401.94,325.28])\n",
    "calculate_iou(box1, box2, form='coco')"
   ]
  },
  {
   "cell_type": "markdown",
   "metadata": {
    "id": "-KB1p22Wdy3G"
   },
   "source": [
    "Calculate the IoU by filling the function with the bounding boxes"
   ]
  },
  {
   "cell_type": "code",
   "execution_count": 19,
   "metadata": {
    "colab": {
     "base_uri": "https://localhost:8080/"
    },
    "id": "4VzwNwxR_VN5",
    "outputId": "2cb734fe-ed60-44f4-cb22-c31fffa47d8e"
   },
   "outputs": [
    {
     "data": {
      "text/plain": [
       "0.050153596988059185"
      ]
     },
     "execution_count": 19,
     "metadata": {},
     "output_type": "execute_result"
    }
   ],
   "source": [
    "box1 = np.array([0,41,216.67,299.7])\n",
    "box2 = np.array([47,314,178.24,186.1])\n",
    "calculate_iou(box1, box2, form='coco')"
   ]
  },
  {
   "cell_type": "code",
   "execution_count": 20,
   "metadata": {
    "id": "iJpbgEkM_WSp"
   },
   "outputs": [
    {
     "data": {
      "text/plain": [
       "0.9015451088450485"
      ]
     },
     "execution_count": 20,
     "metadata": {},
     "output_type": "execute_result"
    }
   ],
   "source": [
    "box1 = np.array([1,414,214.3,359.64])\n",
    "box2 = np.array([4,430,209.72,331.2])\n",
    "calculate_iou(box1, box2, form='coco')"
   ]
  },
  {
   "cell_type": "code",
   "execution_count": 21,
   "metadata": {
    "colab": {
     "base_uri": "https://localhost:8080/"
    },
    "id": "p3oNjaPaCJmG",
    "outputId": "b2feee95-1815-47d0-d750-fa1b48375928"
   },
   "outputs": [
    {
     "data": {
      "text/plain": [
       "0.8973179626256211"
      ]
     },
     "execution_count": 21,
     "metadata": {},
     "output_type": "execute_result"
    }
   ],
   "source": [
    "box1 = np.array([170,293,242.46,289.13])\n",
    "box2 = np.array([173,302,245.98,269.16])\n",
    "calculate_iou(box1, box2, form='coco')"
   ]
  },
  {
   "cell_type": "code",
   "execution_count": 22,
   "metadata": {
    "id": "TN7vMdCYCKhK"
   },
   "outputs": [
    {
     "data": {
      "text/plain": [
       "1.0"
      ]
     },
     "execution_count": 22,
     "metadata": {},
     "output_type": "execute_result"
    }
   ],
   "source": [
    "box1 = np.array([375,327,183.57,254.28])\n",
    "box2 = np.array([375,327,183.57,254.28])\n",
    "calculate_iou(box1, box2, form='coco')"
   ]
  },
  {
   "cell_type": "markdown",
   "metadata": {
    "colab": {
     "base_uri": "https://localhost:8080/"
    },
    "id": "BxcxjsMbDNOG",
    "outputId": "a0bdc3eb-a128-47b6-fa32-ccfa64f62e1e"
   },
   "source": [
    "### Image - vladimir-fedotov-0f6d8tYEljU-unsplash_jpg.rf.778319bde7a7969eb32e3946c774235c.jpg"
   ]
  },
  {
   "cell_type": "code",
   "execution_count": 12,
   "metadata": {},
   "outputs": [
    {
     "data": {
      "text/plain": [
       "0.8244452288770718"
      ]
     },
     "execution_count": 12,
     "metadata": {},
     "output_type": "execute_result"
    }
   ],
   "source": [
    "box1 = np.array([0,0,332.51,148])\n",
    "box2 = np.array([1,1,331.84,176.89])\n",
    "calculate_iou(box1, box2, form='coco')"
   ]
  },
  {
   "cell_type": "code",
   "execution_count": 39,
   "metadata": {},
   "outputs": [
    {
     "data": {
      "text/plain": [
       "0.9631533910133369"
      ]
     },
     "execution_count": 39,
     "metadata": {},
     "output_type": "execute_result"
    }
   ],
   "source": [
    "box1 = np.array([212,0,353.03,350.12])\n",
    "box2 = np.array([213,1,362.64,348.25])\n",
    "calculate_iou(box1, box2, form='coco')"
   ]
  },
  {
   "cell_type": "code",
   "execution_count": 14,
   "metadata": {},
   "outputs": [
    {
     "data": {
      "text/plain": [
       "0.7912809131951756"
      ]
     },
     "execution_count": 14,
     "metadata": {},
     "output_type": "execute_result"
    }
   ],
   "source": [
    "box1 = np.array([519,0,429.35,227.94])\n",
    "box2 = np.array([554,0,379.92,258.62])\n",
    "calculate_iou(box1, box2, form='coco')"
   ]
  },
  {
   "cell_type": "code",
   "execution_count": 15,
   "metadata": {},
   "outputs": [
    {
     "data": {
      "text/plain": [
       "0.8087163794828006"
      ]
     },
     "execution_count": 15,
     "metadata": {},
     "output_type": "execute_result"
    }
   ],
   "source": [
    "box1 = np.array([0,61,284.67,178.53])\n",
    "box2 = np.array([1,57,340.13,181.15])\n",
    "calculate_iou(box1, box2, form='coco')"
   ]
  },
  {
   "cell_type": "markdown",
   "metadata": {},
   "source": [
    "### Image - henley-design-studio-2ywzLqu-cuk-unsplash_jpg.rf.3a8b65abbadba355ad8e51c7b95790e9.jpg"
   ]
  },
  {
   "cell_type": "code",
   "execution_count": 6,
   "metadata": {},
   "outputs": [
    {
     "data": {
      "text/plain": [
       "0.9339639150522172"
      ]
     },
     "execution_count": 6,
     "metadata": {},
     "output_type": "execute_result"
    }
   ],
   "source": [
    "box1 = np.array([509,122,455.88,488.49])\n",
    "box2 = np.array([511,120,437,502])\n",
    "calculate_iou(box1, box2, form='coco')"
   ]
  },
  {
   "cell_type": "markdown",
   "metadata": {},
   "source": [
    "### Image - audrey-martin-FJpHcqMud_Y-unsplash_jpg.rf.bba62c8515242f48efd6547a835ab5e7.jpg"
   ]
  },
  {
   "cell_type": "code",
   "execution_count": 31,
   "metadata": {},
   "outputs": [
    {
     "data": {
      "text/plain": [
       "0.8967949213043278"
      ]
     },
     "execution_count": 31,
     "metadata": {},
     "output_type": "execute_result"
    }
   ],
   "source": [
    "box1 = np.array([219,29,211.79,229])\n",
    "box2 = np.array([223,38,207.21,209.8])\n",
    "calculate_iou(box1, box2, form='coco')"
   ]
  },
  {
   "cell_type": "code",
   "execution_count": 32,
   "metadata": {},
   "outputs": [
    {
     "data": {
      "text/plain": [
       "0.8521465317352966"
      ]
     },
     "execution_count": 32,
     "metadata": {},
     "output_type": "execute_result"
    }
   ],
   "source": [
    "box1 = np.array([109,157,174.83,167])\n",
    "box2 = np.array([104,155,171.65,182.48])\n",
    "calculate_iou(box1, box2, form='coco')"
   ]
  },
  {
   "cell_type": "code",
   "execution_count": 33,
   "metadata": {},
   "outputs": [
    {
     "data": {
      "text/plain": [
       "0.0"
      ]
     },
     "execution_count": 33,
     "metadata": {},
     "output_type": "execute_result"
    }
   ],
   "source": [
    "box1 = np.array([287,213,156.17,160])\n",
    "box2 = np.array([])\n",
    "calculate_iou(box1, box2, form='coco')"
   ]
  },
  {
   "cell_type": "code",
   "execution_count": 34,
   "metadata": {},
   "outputs": [
    {
     "data": {
      "text/plain": [
       "0.882629676678515"
      ]
     },
     "execution_count": 34,
     "metadata": {},
     "output_type": "execute_result"
    }
   ],
   "source": [
    "box1 = np.array([178,251,186.81,189])\n",
    "box2 = np.array([179,248,190.74,207.74])\n",
    "calculate_iou(box1, box2, form='coco')"
   ]
  },
  {
   "cell_type": "code",
   "execution_count": 35,
   "metadata": {},
   "outputs": [
    {
     "data": {
      "text/plain": [
       "0.9625566398720559"
      ]
     },
     "execution_count": 35,
     "metadata": {},
     "output_type": "execute_result"
    }
   ],
   "source": [
    "box1 = np.array([24,307,192.84,190])\n",
    "box2 = np.array([22,310,195.33,185.15])\n",
    "calculate_iou(box1, box2, form='coco')"
   ]
  },
  {
   "cell_type": "code",
   "execution_count": 36,
   "metadata": {},
   "outputs": [
    {
     "data": {
      "text/plain": [
       "0.0"
      ]
     },
     "execution_count": 36,
     "metadata": {},
     "output_type": "execute_result"
    }
   ],
   "source": [
    "box1 = np.array([205,373,157.15,165])\n",
    "box2 = np.array([])\n",
    "calculate_iou(box1, box2, form='coco')"
   ]
  },
  {
   "cell_type": "code",
   "execution_count": 37,
   "metadata": {},
   "outputs": [
    {
     "data": {
      "text/plain": [
       "0.9096388322310619"
      ]
     },
     "execution_count": 37,
     "metadata": {},
     "output_type": "execute_result"
    }
   ],
   "source": [
    "box1 = np.array([424,217,194.75,185])\n",
    "box2 = np.array([433,221,190.79,180.81])\n",
    "calculate_iou(box1, box2, form='coco')"
   ]
  },
  {
   "cell_type": "code",
   "execution_count": 38,
   "metadata": {},
   "outputs": [
    {
     "data": {
      "text/plain": [
       "0.8805951078790791"
      ]
     },
     "execution_count": 38,
     "metadata": {},
     "output_type": "execute_result"
    }
   ],
   "source": [
    "box1 = np.array([325,367,207.18,216])\n",
    "box2 = np.array([318,372,209.08,201.02])\n",
    "calculate_iou(box1, box2, form='coco')"
   ]
  },
  {
   "cell_type": "markdown",
   "metadata": {},
   "source": [
    "### Image - ayla-verschueren-UjOi6URY-C8-unsplash_jpg.rf.ec1015a78a0be01d13f34430c3caaa93.jpg"
   ]
  },
  {
   "cell_type": "code",
   "execution_count": 44,
   "metadata": {},
   "outputs": [
    {
     "data": {
      "text/plain": [
       "0.9554313152064744"
      ]
     },
     "execution_count": 44,
     "metadata": {},
     "output_type": "execute_result"
    }
   ],
   "source": [
    "box1 = np.array([1,490,252.39,322.46])\n",
    "box2 = np.array([0,490,257.71,314.37])\n",
    "calculate_iou(box1, box2, form='coco')"
   ]
  },
  {
   "cell_type": "code",
   "execution_count": 26,
   "metadata": {},
   "outputs": [
    {
     "data": {
      "text/plain": [
       "0.9826693450691127"
      ]
     },
     "execution_count": 26,
     "metadata": {},
     "output_type": "execute_result"
    }
   ],
   "source": [
    "box1 = np.array([218,121,287.68,296.99])\n",
    "box2 = np.array([0])\n",
    "calculate_iou(box1, box2, form='coco')"
   ]
  },
  {
   "cell_type": "code",
   "execution_count": 27,
   "metadata": {},
   "outputs": [
    {
     "data": {
      "text/plain": [
       "0.8913820936895052"
      ]
     },
     "execution_count": 27,
     "metadata": {},
     "output_type": "execute_result"
    }
   ],
   "source": [
    "box1 = np.array([1199,411,300.08,307.77])\n",
    "box2 = np.array([0])\n",
    "calculate_iou(box1, box2, form='coco')"
   ]
  },
  {
   "cell_type": "code",
   "execution_count": 28,
   "metadata": {},
   "outputs": [
    {
     "data": {
      "text/plain": [
       "0.8899651407307889"
      ]
     },
     "execution_count": 28,
     "metadata": {},
     "output_type": "execute_result"
    }
   ],
   "source": [
    "box1 = np.array([1262,885,289.32,314.81])\n",
    "box2 = np.array([0])\n",
    "calculate_iou(box1, box2, form='coco')"
   ]
  },
  {
   "cell_type": "markdown",
   "metadata": {},
   "source": [
    "### Image - siora-photography-1VDWmab-Glk-unsplash_jpg.rf.38c8ae8104a036377c0b74344aa14731.jpg"
   ]
  },
  {
   "cell_type": "code",
   "execution_count": 40,
   "metadata": {},
   "outputs": [
    {
     "data": {
      "text/plain": [
       "0.9384745559206509"
      ]
     },
     "execution_count": 40,
     "metadata": {},
     "output_type": "execute_result"
    }
   ],
   "source": [
    "box1 = np.array([2272,0,1184.36,1278.52])\n",
    "box2 = np.array([2300,0,1142.1,1244.19])\n",
    "calculate_iou(box1, box2, form='coco')"
   ]
  },
  {
   "cell_type": "code",
   "execution_count": 41,
   "metadata": {},
   "outputs": [
    {
     "data": {
      "text/plain": [
       "0.9277459381730289"
      ]
     },
     "execution_count": 41,
     "metadata": {},
     "output_type": "execute_result"
    }
   ],
   "source": [
    "box1 = np.array([871,0,1404.28,1244.77])\n",
    "box2 = np.array([932,0,1313.91,1234.19])\n",
    "calculate_iou(box1, box2, form='coco')"
   ]
  },
  {
   "cell_type": "code",
   "execution_count": 42,
   "metadata": {},
   "outputs": [
    {
     "data": {
      "text/plain": [
       "0.8786842145033076"
      ]
     },
     "execution_count": 42,
     "metadata": {},
     "output_type": "execute_result"
    }
   ],
   "source": [
    "box1 = np.array([1559,570,1509.58,1928.34])\n",
    "box2 = np.array([1616,594,1460.98,1769.75])\n",
    "calculate_iou(box1, box2, form='coco')"
   ]
  },
  {
   "cell_type": "code",
   "execution_count": 43,
   "metadata": {},
   "outputs": [
    {
     "data": {
      "text/plain": [
       "0.7498514134430125"
      ]
     },
     "execution_count": 43,
     "metadata": {},
     "output_type": "execute_result"
    }
   ],
   "source": [
    "box1 = np.array([1196,1215,1155.31,1544.36])\n",
    "box2 = np.array([1177,1236,996.92,1387.99])\n",
    "calculate_iou(box1, box2, form='coco')"
   ]
  },
  {
   "cell_type": "markdown",
   "metadata": {},
   "source": [
    "### Image - anne-nygard-1hxeCZ-S65M-unsplash_jpg.rf.fb6926255b5e4e205c0d140f8707364e.jpg"
   ]
  },
  {
   "cell_type": "code",
   "execution_count": 22,
   "metadata": {},
   "outputs": [
    {
     "data": {
      "text/plain": [
       "0.8113757445673373"
      ]
     },
     "execution_count": 22,
     "metadata": {},
     "output_type": "execute_result"
    }
   ],
   "source": [
    "box1 = np.array([412,343,56.24,65.18])\n",
    "box2 = np.array([411,345,57.89,73.94])\n",
    "calculate_iou(box1, box2, form='coco')"
   ]
  },
  {
   "cell_type": "code",
   "execution_count": 23,
   "metadata": {},
   "outputs": [
    {
     "data": {
      "text/plain": [
       "0.6850847490601363"
      ]
     },
     "execution_count": 23,
     "metadata": {},
     "output_type": "execute_result"
    }
   ],
   "source": [
    "box1 = np.array([358,357,81.43,57.03])\n",
    "box2 = np.array([358,357,62.11,65.94])\n",
    "calculate_iou(box1, box2, form='coco')"
   ]
  },
  {
   "cell_type": "code",
   "execution_count": 24,
   "metadata": {},
   "outputs": [
    {
     "data": {
      "text/plain": [
       "0.8557845033476044"
      ]
     },
     "execution_count": 24,
     "metadata": {},
     "output_type": "execute_result"
    }
   ],
   "source": [
    "box1 = np.array([436,379,67.81,58.51])\n",
    "box2 = np.array([442,379,58.75,57.65])\n",
    "calculate_iou(box1, box2, form='coco')"
   ]
  },
  {
   "cell_type": "code",
   "execution_count": 25,
   "metadata": {},
   "outputs": [
    {
     "data": {
      "text/plain": [
       "0.8004881869094719"
      ]
     },
     "execution_count": 25,
     "metadata": {},
     "output_type": "execute_result"
    }
   ],
   "source": [
    "box1 = np.array([381,386,56.62,52.59])\n",
    "box2 = np.array([382,390,54.96,55.36])\n",
    "calculate_iou(box1, box2, form='coco')"
   ]
  },
  {
   "cell_type": "code",
   "execution_count": 26,
   "metadata": {},
   "outputs": [
    {
     "data": {
      "text/plain": [
       "0.886396756392214"
      ]
     },
     "execution_count": 26,
     "metadata": {},
     "output_type": "execute_result"
    }
   ],
   "source": [
    "box1 = np.array([419,423,43.74,50.74])\n",
    "box2 = np.array([416,425,47.03,48.06])\n",
    "calculate_iou(box1, box2, form='coco')"
   ]
  },
  {
   "cell_type": "code",
   "execution_count": 27,
   "metadata": {},
   "outputs": [
    {
     "data": {
      "text/plain": [
       "0.7701725192855768"
      ]
     },
     "execution_count": 27,
     "metadata": {},
     "output_type": "execute_result"
    }
   ],
   "source": [
    "box1 = np.array([368,435,49.59,43.7])\n",
    "box2 = np.array([366,426,50.11,52.06])\n",
    "calculate_iou(box1, box2, form='coco')"
   ]
  },
  {
   "cell_type": "markdown",
   "metadata": {},
   "source": [
    "### Image - siamak-cEVBsYy3gxU-unsplash_jpg.rf.e07e16caf07207f22110b42ecf2d4320.jpg"
   ]
  },
  {
   "cell_type": "code",
   "execution_count": 10,
   "metadata": {},
   "outputs": [
    {
     "data": {
      "text/plain": [
       "0.9616970515140688"
      ]
     },
     "execution_count": 10,
     "metadata": {},
     "output_type": "execute_result"
    }
   ],
   "source": [
    "box1 = np.array([0,85,79.28,212.69])\n",
    "box2 = np.array([0,80,78.55,219.24])\n",
    "calculate_iou(box1, box2, form='coco')"
   ]
  },
  {
   "cell_type": "code",
   "execution_count": 11,
   "metadata": {},
   "outputs": [
    {
     "data": {
      "text/plain": [
       "0.8749527479689679"
      ]
     },
     "execution_count": 11,
     "metadata": {},
     "output_type": "execute_result"
    }
   ],
   "source": [
    "box1 = np.array([60,9,171.75,200.47])\n",
    "box2 = np.array([60,1,178.31,196.85])\n",
    "calculate_iou(box1, box2, form='coco')"
   ]
  },
  {
   "cell_type": "code",
   "execution_count": 12,
   "metadata": {},
   "outputs": [
    {
     "data": {
      "text/plain": [
       "0.8475703176784974"
      ]
     },
     "execution_count": 12,
     "metadata": {},
     "output_type": "execute_result"
    }
   ],
   "source": [
    "box1 = np.array([72,125,150.46,194.3])\n",
    "box2 = np.array([55,129,168.31,182.9])\n",
    "calculate_iou(box1, box2, form='coco')"
   ]
  },
  {
   "cell_type": "markdown",
   "metadata": {},
   "source": [
    "### Image - gift-habeshaw-kBhmgL0ngHw-unsplash_jpg.rf.4bcc3183f16d6a93d61822377b341c06.jpg"
   ]
  },
  {
   "cell_type": "code",
   "execution_count": 23,
   "metadata": {},
   "outputs": [
    {
     "data": {
      "text/plain": [
       "0.8911541660909429"
      ]
     },
     "execution_count": 23,
     "metadata": {},
     "output_type": "execute_result"
    }
   ],
   "source": [
    "box1 = np.array([214,0,157.16,110.99])\n",
    "box2 = np.array([215,4,157.25,100.06])\n",
    "calculate_iou(box1, box2, form='coco')"
   ]
  },
  {
   "cell_type": "code",
   "execution_count": 24,
   "metadata": {},
   "outputs": [
    {
     "data": {
      "text/plain": [
       "0.0"
      ]
     },
     "execution_count": 24,
     "metadata": {},
     "output_type": "execute_result"
    }
   ],
   "source": [
    "box1 = np.array([378,0,81.29,14.18])\n",
    "box2 = np.array([])\n",
    "calculate_iou(box1, box2, form='coco')"
   ]
  },
  {
   "cell_type": "code",
   "execution_count": 25,
   "metadata": {},
   "outputs": [
    {
     "data": {
      "text/plain": [
       "0.9522225321813662"
      ]
     },
     "execution_count": 25,
     "metadata": {},
     "output_type": "execute_result"
    }
   ],
   "source": [
    "box1 = np.array([562,46,107.24,108.53])\n",
    "box2 = np.array([561,44,108.05,112.78])\n",
    "calculate_iou(box1, box2, form='coco')"
   ]
  },
  {
   "cell_type": "code",
   "execution_count": 26,
   "metadata": {},
   "outputs": [
    {
     "data": {
      "text/plain": [
       "0.69082970577702"
      ]
     },
     "execution_count": 26,
     "metadata": {},
     "output_type": "execute_result"
    }
   ],
   "source": [
    "box1 = np.array([564,4,115.25,101.75] )\n",
    "box2 = np.array([566,0,110.5,79.77])\n",
    "calculate_iou(box1, box2, form='coco')"
   ]
  },
  {
   "cell_type": "code",
   "execution_count": 27,
   "metadata": {},
   "outputs": [
    {
     "data": {
      "text/plain": [
       "0.6252512992519194"
      ]
     },
     "execution_count": 27,
     "metadata": {},
     "output_type": "execute_result"
    }
   ],
   "source": [
    "box1 = np.array([648,59,102.9,100.51] )\n",
    "box2 = np.array([658,51,86.52,87.35])\n",
    "calculate_iou(box1, box2, form='coco')"
   ]
  },
  {
   "cell_type": "code",
   "execution_count": 28,
   "metadata": {},
   "outputs": [
    {
     "data": {
      "text/plain": [
       "0.8756923187204043"
      ]
     },
     "execution_count": 28,
     "metadata": {},
     "output_type": "execute_result"
    }
   ],
   "source": [
    "box1 = np.array([1238,2,122.62,118.39])\n",
    "box2 = np.array([1241,0,113.65,115.48])\n",
    "calculate_iou(box1, box2, form='coco')"
   ]
  },
  {
   "cell_type": "code",
   "execution_count": 29,
   "metadata": {},
   "outputs": [
    {
     "data": {
      "text/plain": [
       "0.9196669866378119"
      ]
     },
     "execution_count": 29,
     "metadata": {},
     "output_type": "execute_result"
    }
   ],
   "source": [
    "box1 = np.array([1333,0,124.44,114.69] )\n",
    "box2 = np.array([1337,0,126.35,114.05])\n",
    "calculate_iou(box1, box2, form='coco')"
   ]
  },
  {
   "cell_type": "code",
   "execution_count": 30,
   "metadata": {},
   "outputs": [
    {
     "data": {
      "text/plain": [
       "0.7904764590230908"
      ]
     },
     "execution_count": 30,
     "metadata": {},
     "output_type": "execute_result"
    }
   ],
   "source": [
    "box1 = np.array([1313,100,97.94,86.33])\n",
    "box2 = np.array([1310,96,100.92,77.08])\n",
    "calculate_iou(box1, box2, form='coco')"
   ]
  },
  {
   "cell_type": "markdown",
   "metadata": {},
   "source": [
    "### Image - miops-trigger-sy0HX0_mzG0-unsplash_jpg.rf.dde7f7af38757ec63b094108aed277c0.jpg"
   ]
  },
  {
   "cell_type": "code",
   "execution_count": 41,
   "metadata": {},
   "outputs": [
    {
     "data": {
      "text/plain": [
       "0.983601318573747"
      ]
     },
     "execution_count": 41,
     "metadata": {},
     "output_type": "execute_result"
    }
   ],
   "source": [
    "box1 = np.array([429,125,453.47,329.51])\n",
    "box2 = np.array([0])\n",
    "calculate_iou(box1, box2, form='coco')"
   ]
  },
  {
   "cell_type": "code",
   "execution_count": 45,
   "metadata": {},
   "outputs": [
    {
     "data": {
      "text/plain": [
       "0.9408583394962531"
      ]
     },
     "execution_count": 45,
     "metadata": {},
     "output_type": "execute_result"
    }
   ],
   "source": [
    "box1 = np.array([859,12,424.62,386.1])\n",
    "box2 = np.array([865,10,420.8,402.8])\n",
    "calculate_iou(box1, box2, form='coco')"
   ]
  },
  {
   "cell_type": "code",
   "execution_count": null,
   "metadata": {},
   "outputs": [],
   "source": []
  }
 ],
 "metadata": {
  "colab": {
   "provenance": []
  },
  "kernelspec": {
   "display_name": "Python 3 (ipykernel)",
   "language": "python",
   "name": "python3"
  },
  "language_info": {
   "codemirror_mode": {
    "name": "ipython",
    "version": 3
   },
   "file_extension": ".py",
   "mimetype": "text/x-python",
   "name": "python",
   "nbconvert_exporter": "python",
   "pygments_lexer": "ipython3",
   "version": "3.9.7"
  }
 },
 "nbformat": 4,
 "nbformat_minor": 1
}
