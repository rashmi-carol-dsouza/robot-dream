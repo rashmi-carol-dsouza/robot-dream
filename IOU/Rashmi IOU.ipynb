{
 "cells": [
  {
   "cell_type": "markdown",
   "metadata": {
    "id": "01ALbgM5dTbr"
   },
   "source": [
    "Importing necessary libraries"
   ]
  },
  {
   "cell_type": "code",
   "execution_count": 2,
   "metadata": {
    "id": "ABB6KxaL4eYX"
   },
   "outputs": [],
   "source": [
    "import pandas as pd\n",
    "import numpy as np\n",
    "import numba\n",
    "import re\n",
    "import cv2\n",
    "import ast\n",
    "import matplotlib.pyplot as plt\n",
    "\n",
    "from numba import jit\n",
    "from typing import List, Union, Tuple"
   ]
  },
  {
   "cell_type": "markdown",
   "metadata": {
    "id": "HDvxZoXsdaKp"
   },
   "source": [
    "Function to calculate IoU"
   ]
  },
  {
   "cell_type": "code",
   "execution_count": 3,
   "metadata": {
    "id": "p6GD4ga-4k_g"
   },
   "outputs": [],
   "source": [
    "@jit(nopython=True)\n",
    "def calculate_iou(gt, pr, form='pascal_voc') -> float:\n",
    "    \"\"\"Calculates the Intersection over Union.\n",
    "\n",
    "    Args:\n",
    "        gt: (np.ndarray[Union[int, float]]) coordinates of the ground-truth box\n",
    "        pr: (np.ndarray[Union[int, float]]) coordinates of the prdected box\n",
    "        form: (str) gt/pred coordinates format\n",
    "            - pascal_voc: [xmin, ymin, xmax, ymax]\n",
    "            - coco: [xmin, ymin, w, h]\n",
    "    Returns:\n",
    "        (float) Intersection over union (0.0 <= iou <= 1.0)\n",
    "    \"\"\"\n",
    "    if form == 'coco':\n",
    "        gt = gt.copy()\n",
    "        pr = pr.copy()\n",
    "\n",
    "        gt[2] = gt[0] + gt[2]\n",
    "        gt[3] = gt[1] + gt[3]\n",
    "        pr[2] = pr[0] + pr[2]\n",
    "        pr[3] = pr[1] + pr[3]\n",
    "\n",
    "    # Calculate overlap area\n",
    "    dx = min(gt[2], pr[2]) - max(gt[0], pr[0]) + 1\n",
    "    \n",
    "    if dx < 0:\n",
    "        return 0.0\n",
    "    \n",
    "    dy = min(gt[3], pr[3]) - max(gt[1], pr[1]) + 1\n",
    "\n",
    "    if dy < 0:\n",
    "        return 0.0\n",
    "\n",
    "    overlap_area = dx * dy\n",
    "\n",
    "    # Calculate union area\n",
    "    union_area = (\n",
    "            (gt[2] - gt[0] + 1) * (gt[3] - gt[1] + 1) +\n",
    "            (pr[2] - pr[0] + 1) * (pr[3] - pr[1] + 1) -\n",
    "            overlap_area\n",
    "    )\n",
    "\n",
    "    return overlap_area / union_area"
   ]
  },
  {
   "cell_type": "markdown",
   "metadata": {
    "id": "T3ItcWtddkuG"
   },
   "source": [
    "Enter the bounding box for the ground truth (box 1) followed by the bounding box of the predicted model(box 2)"
   ]
  },
  {
   "cell_type": "markdown",
   "metadata": {},
   "source": [
    "### Image - lucas-hoang-rquNBlHgSWg-unsplash_jpg.rf.44d9d1748a02fdd36348b92739b7d130.jpg"
   ]
  },
  {
   "cell_type": "code",
   "execution_count": 4,
   "metadata": {
    "id": "fwuwa_nD-MKA"
   },
   "outputs": [
    {
     "data": {
      "text/plain": [
       "0.9862775955880806"
      ]
     },
     "execution_count": 4,
     "metadata": {},
     "output_type": "execute_result"
    }
   ],
   "source": [
    "box1 = np.array([0,0,401.39,337.78])\n",
    "box2 = np.array([0,0,403.78,335.1])\n",
    "calculate_iou(box1, box2, form='coco')"
   ]
  },
  {
   "cell_type": "markdown",
   "metadata": {
    "id": "-KB1p22Wdy3G"
   },
   "source": [
    "Calculate the IoU by filling the function with the bounding boxes"
   ]
  },
  {
   "cell_type": "code",
   "execution_count": 5,
   "metadata": {
    "colab": {
     "base_uri": "https://localhost:8080/"
    },
    "id": "4VzwNwxR_VN5",
    "outputId": "2cb734fe-ed60-44f4-cb22-c31fffa47d8e"
   },
   "outputs": [
    {
     "data": {
      "text/plain": [
       "0.47708517494340136"
      ]
     },
     "execution_count": 5,
     "metadata": {},
     "output_type": "execute_result"
    }
   ],
   "source": [
    "box1 = np.array([0,41,216.67,299.7])\n",
    "box2 = np.array([0,103,130.04,237.3])\n",
    "calculate_iou(box1, box2, form='coco')"
   ]
  },
  {
   "cell_type": "code",
   "execution_count": 6,
   "metadata": {
    "id": "iJpbgEkM_WSp"
   },
   "outputs": [
    {
     "data": {
      "text/plain": [
       "0.965399302646347"
      ]
     },
     "execution_count": 6,
     "metadata": {},
     "output_type": "execute_result"
    }
   ],
   "source": [
    "box1 = np.array([1,414,214.3,359.64])\n",
    "box2 = np.array([0,410,211.79,362.45])\n",
    "calculate_iou(box1, box2, form='coco')"
   ]
  },
  {
   "cell_type": "code",
   "execution_count": 7,
   "metadata": {
    "colab": {
     "base_uri": "https://localhost:8080/"
    },
    "id": "p3oNjaPaCJmG",
    "outputId": "b2feee95-1815-47d0-d750-fa1b48375928"
   },
   "outputs": [
    {
     "data": {
      "text/plain": [
       "0.9136830820214129"
      ]
     },
     "execution_count": 7,
     "metadata": {},
     "output_type": "execute_result"
    }
   ],
   "source": [
    "box1 = np.array([170,293,242.46,289.13])\n",
    "box2 = np.array([176,307,235.75,271.6])\n",
    "calculate_iou(box1, box2, form='coco')"
   ]
  },
  {
   "cell_type": "code",
   "execution_count": 8,
   "metadata": {
    "id": "TN7vMdCYCKhK"
   },
   "outputs": [
    {
     "data": {
      "text/plain": [
       "0.9089702118289735"
      ]
     },
     "execution_count": 8,
     "metadata": {},
     "output_type": "execute_result"
    }
   ],
   "source": [
    "box1 = np.array([366,327,191.92,260.21])\n",
    "box2 = np.array([372,314,184.01,271.4])\n",
    "calculate_iou(box1, box2, form='coco')"
   ]
  },
  {
   "cell_type": "markdown",
   "metadata": {
    "colab": {
     "base_uri": "https://localhost:8080/"
    },
    "id": "BxcxjsMbDNOG",
    "outputId": "a0bdc3eb-a128-47b6-fa32-ccfa64f62e1e"
   },
   "source": [
    "### Image - vladimir-fedotov-0f6d8tYEljU-unsplash_jpg.rf.778319bde7a7969eb32e3946c774235c.jpg"
   ]
  },
  {
   "cell_type": "code",
   "execution_count": 12,
   "metadata": {},
   "outputs": [
    {
     "data": {
      "text/plain": [
       "0.8244452288770718"
      ]
     },
     "execution_count": 12,
     "metadata": {},
     "output_type": "execute_result"
    }
   ],
   "source": [
    "box1 = np.array([0,0,332.51,148])\n",
    "box2 = np.array([1,1,331.84,176.89])\n",
    "calculate_iou(box1, box2, form='coco')"
   ]
  },
  {
   "cell_type": "code",
   "execution_count": 13,
   "metadata": {},
   "outputs": [
    {
     "data": {
      "text/plain": [
       "0.9737684889567648"
      ]
     },
     "execution_count": 13,
     "metadata": {},
     "output_type": "execute_result"
    }
   ],
   "source": [
    "box1 = np.array([212,0,353.03,350.12])\n",
    "box2 = np.array([214,0,348.36,345.48])\n",
    "calculate_iou(box1, box2, form='coco')"
   ]
  },
  {
   "cell_type": "code",
   "execution_count": 14,
   "metadata": {},
   "outputs": [
    {
     "data": {
      "text/plain": [
       "0.7912809131951756"
      ]
     },
     "execution_count": 14,
     "metadata": {},
     "output_type": "execute_result"
    }
   ],
   "source": [
    "box1 = np.array([519,0,429.35,227.94])\n",
    "box2 = np.array([554,0,379.92,258.62])\n",
    "calculate_iou(box1, box2, form='coco')"
   ]
  },
  {
   "cell_type": "code",
   "execution_count": 15,
   "metadata": {},
   "outputs": [
    {
     "data": {
      "text/plain": [
       "0.8087163794828006"
      ]
     },
     "execution_count": 15,
     "metadata": {},
     "output_type": "execute_result"
    }
   ],
   "source": [
    "box1 = np.array([0,61,284.67,178.53])\n",
    "box2 = np.array([1,57,340.13,181.15])\n",
    "calculate_iou(box1, box2, form='coco')"
   ]
  },
  {
   "cell_type": "markdown",
   "metadata": {},
   "source": [
    "### Image - henley-design-studio-2ywzLqu-cuk-unsplash_jpg.rf.3a8b65abbadba355ad8e51c7b95790e9.jpg"
   ]
  },
  {
   "cell_type": "code",
   "execution_count": 16,
   "metadata": {},
   "outputs": [
    {
     "data": {
      "text/plain": [
       "0.9435516754438854"
      ]
     },
     "execution_count": 16,
     "metadata": {},
     "output_type": "execute_result"
    }
   ],
   "source": [
    "box1 = np.array([509,122,455.88,488.49])\n",
    "box2 = np.array([516,128,436,481.87])\n",
    "calculate_iou(box1, box2, form='coco')"
   ]
  },
  {
   "cell_type": "markdown",
   "metadata": {},
   "source": [
    "### Image - audrey-martin-FJpHcqMud_Y-unsplash_jpg.rf.bba62c8515242f48efd6547a835ab5e7.jpg"
   ]
  },
  {
   "cell_type": "code",
   "execution_count": 17,
   "metadata": {},
   "outputs": [
    {
     "data": {
      "text/plain": [
       "0.965732695836177"
      ]
     },
     "execution_count": 17,
     "metadata": {},
     "output_type": "execute_result"
    }
   ],
   "source": [
    "box1 = np.array([219,29,211.79,229])\n",
    "box2 = np.array([219,30,213.67,223.03])\n",
    "calculate_iou(box1, box2, form='coco')"
   ]
  },
  {
   "cell_type": "code",
   "execution_count": 18,
   "metadata": {},
   "outputs": [
    {
     "data": {
      "text/plain": [
       "0.9807050700916426"
      ]
     },
     "execution_count": 18,
     "metadata": {},
     "output_type": "execute_result"
    }
   ],
   "source": [
    "box1 = np.array([109,157,174.83,167])\n",
    "box2 = np.array([109,158,176.01,164.85])\n",
    "calculate_iou(box1, box2, form='coco')"
   ]
  },
  {
   "cell_type": "code",
   "execution_count": 19,
   "metadata": {},
   "outputs": [
    {
     "data": {
      "text/plain": [
       "0.9309351503759401"
      ]
     },
     "execution_count": 19,
     "metadata": {},
     "output_type": "execute_result"
    }
   ],
   "source": [
    "box1 = np.array([287,213,156.17,160])\n",
    "box2 = np.array([288,206,153.69,164.8])\n",
    "calculate_iou(box1, box2, form='coco')"
   ]
  },
  {
   "cell_type": "code",
   "execution_count": 20,
   "metadata": {},
   "outputs": [
    {
     "data": {
      "text/plain": [
       "0.9558017936910117"
      ]
     },
     "execution_count": 20,
     "metadata": {},
     "output_type": "execute_result"
    }
   ],
   "source": [
    "box1 = np.array([178,251,186.81,189])\n",
    "box2 = np.array([174,254,192.43,186.05])\n",
    "calculate_iou(box1, box2, form='coco')"
   ]
  },
  {
   "cell_type": "code",
   "execution_count": 21,
   "metadata": {},
   "outputs": [
    {
     "data": {
      "text/plain": [
       "0.9376866871365813"
      ]
     },
     "execution_count": 21,
     "metadata": {},
     "output_type": "execute_result"
    }
   ],
   "source": [
    "box1 = np.array([24,307,192.84,190])\n",
    "box2 = np.array([25,311,188.79,181.92])\n",
    "calculate_iou(box1, box2, form='coco')"
   ]
  },
  {
   "cell_type": "code",
   "execution_count": 22,
   "metadata": {},
   "outputs": [
    {
     "data": {
      "text/plain": [
       "0.90666503097032"
      ]
     },
     "execution_count": 22,
     "metadata": {},
     "output_type": "execute_result"
    }
   ],
   "source": [
    "box1 = np.array([205,373,157.15,165])\n",
    "box2 = np.array([204,378,151.68,156.87])\n",
    "calculate_iou(box1, box2, form='coco')"
   ]
  },
  {
   "cell_type": "code",
   "execution_count": 23,
   "metadata": {},
   "outputs": [
    {
     "data": {
      "text/plain": [
       "0.975381510320109"
      ]
     },
     "execution_count": 23,
     "metadata": {},
     "output_type": "execute_result"
    }
   ],
   "source": [
    "box1 = np.array([424,217,194.75,185])\n",
    "box2 = np.array([426,218,191.87,183.13])\n",
    "calculate_iou(box1, box2, form='coco')"
   ]
  },
  {
   "cell_type": "code",
   "execution_count": 24,
   "metadata": {},
   "outputs": [
    {
     "data": {
      "text/plain": [
       "0.9644741965306302"
      ]
     },
     "execution_count": 24,
     "metadata": {},
     "output_type": "execute_result"
    }
   ],
   "source": [
    "box1 = np.array([325,367,207.18,216])\n",
    "box2 = np.array([324,368,206.62,210.86])\n",
    "calculate_iou(box1, box2, form='coco')"
   ]
  },
  {
   "cell_type": "markdown",
   "metadata": {},
   "source": [
    "### Image - ayla-verschueren-UjOi6URY-C8-unsplash_jpg.rf.ec1015a78a0be01d13f34430c3caaa93.jpg"
   ]
  },
  {
   "cell_type": "code",
   "execution_count": 25,
   "metadata": {},
   "outputs": [
    {
     "data": {
      "text/plain": [
       "0.9657732913319614"
      ]
     },
     "execution_count": 25,
     "metadata": {},
     "output_type": "execute_result"
    }
   ],
   "source": [
    "box1 = np.array([1,490,252.39,322.46])\n",
    "box2 = np.array([0,494,254.87,314.37])\n",
    "calculate_iou(box1, box2, form='coco')"
   ]
  },
  {
   "cell_type": "code",
   "execution_count": 26,
   "metadata": {},
   "outputs": [
    {
     "data": {
      "text/plain": [
       "0.9826693450691127"
      ]
     },
     "execution_count": 26,
     "metadata": {},
     "output_type": "execute_result"
    }
   ],
   "source": [
    "box1 = np.array([218,121,287.68,296.99])\n",
    "box2 = np.array([219,118,285.56,299.94])\n",
    "calculate_iou(box1, box2, form='coco')"
   ]
  },
  {
   "cell_type": "code",
   "execution_count": 27,
   "metadata": {},
   "outputs": [
    {
     "data": {
      "text/plain": [
       "0.8913820936895052"
      ]
     },
     "execution_count": 27,
     "metadata": {},
     "output_type": "execute_result"
    }
   ],
   "source": [
    "box1 = np.array([1199,411,300.08,307.77])\n",
    "box2 = np.array([1213,407,284.34,296.98])\n",
    "calculate_iou(box1, box2, form='coco')"
   ]
  },
  {
   "cell_type": "code",
   "execution_count": 28,
   "metadata": {},
   "outputs": [
    {
     "data": {
      "text/plain": [
       "0.8899651407307889"
      ]
     },
     "execution_count": 28,
     "metadata": {},
     "output_type": "execute_result"
    }
   ],
   "source": [
    "box1 = np.array([1262,885,289.32,314.81])\n",
    "box2 = np.array([1249,887,304.07,293.37])\n",
    "calculate_iou(box1, box2, form='coco')"
   ]
  },
  {
   "cell_type": "markdown",
   "metadata": {},
   "source": [
    "### Image - siora-photography-1VDWmab-Glk-unsplash_jpg.rf.38c8ae8104a036377c0b74344aa14731.jpg"
   ]
  },
  {
   "cell_type": "code",
   "execution_count": 29,
   "metadata": {},
   "outputs": [
    {
     "data": {
      "text/plain": [
       "0.8081103972823126"
      ]
     },
     "execution_count": 29,
     "metadata": {},
     "output_type": "execute_result"
    }
   ],
   "source": [
    "box1 = np.array([2272,0,1184.36,1278.52])\n",
    "box2 = np.array([2269,0,1187.1,1578.07])\n",
    "calculate_iou(box1, box2, form='coco')"
   ]
  },
  {
   "cell_type": "code",
   "execution_count": 30,
   "metadata": {},
   "outputs": [
    {
     "data": {
      "text/plain": [
       "0.9700291938437722"
      ]
     },
     "execution_count": 30,
     "metadata": {},
     "output_type": "execute_result"
    }
   ],
   "source": [
    "box1 = np.array([871,0,1404.28,1244.77])\n",
    "box2 = np.array([877,0,1391.87,1218.2])\n",
    "calculate_iou(box1, box2, form='coco')"
   ]
  },
  {
   "cell_type": "code",
   "execution_count": 31,
   "metadata": {},
   "outputs": [
    {
     "data": {
      "text/plain": [
       "0.9759113929384781"
      ]
     },
     "execution_count": 31,
     "metadata": {},
     "output_type": "execute_result"
    }
   ],
   "source": [
    "box1 = np.array([1559,570,1509.58,1928.34])\n",
    "box2 = np.array([1555,570,1511.98,1888.75])\n",
    "calculate_iou(box1, box2, form='coco')"
   ]
  },
  {
   "cell_type": "code",
   "execution_count": 32,
   "metadata": {},
   "outputs": [
    {
     "data": {
      "text/plain": [
       "0.8278959642245994"
      ]
     },
     "execution_count": 32,
     "metadata": {},
     "output_type": "execute_result"
    }
   ],
   "source": [
    "box1 = np.array([1196,1215,1155.31,1544.36])\n",
    "box2 = np.array([1197,960,1191.84,1793.89])\n",
    "calculate_iou(box1, box2, form='coco')"
   ]
  },
  {
   "cell_type": "markdown",
   "metadata": {},
   "source": [
    "### Image - anne-nygard-1hxeCZ-S65M-unsplash_jpg.rf.fb6926255b5e4e205c0d140f8707364e.jpg"
   ]
  },
  {
   "cell_type": "code",
   "execution_count": 22,
   "metadata": {},
   "outputs": [
    {
     "data": {
      "text/plain": [
       "0.8113757445673373"
      ]
     },
     "execution_count": 22,
     "metadata": {},
     "output_type": "execute_result"
    }
   ],
   "source": [
    "box1 = np.array([412,343,56.24,65.18])\n",
    "box2 = np.array([411,345,57.89,73.94])\n",
    "calculate_iou(box1, box2, form='coco')"
   ]
  },
  {
   "cell_type": "code",
   "execution_count": 23,
   "metadata": {},
   "outputs": [
    {
     "data": {
      "text/plain": [
       "0.6850847490601363"
      ]
     },
     "execution_count": 23,
     "metadata": {},
     "output_type": "execute_result"
    }
   ],
   "source": [
    "box1 = np.array([358,357,81.43,57.03])\n",
    "box2 = np.array([358,357,62.11,65.94])\n",
    "calculate_iou(box1, box2, form='coco')"
   ]
  },
  {
   "cell_type": "code",
   "execution_count": 24,
   "metadata": {},
   "outputs": [
    {
     "data": {
      "text/plain": [
       "0.8557845033476044"
      ]
     },
     "execution_count": 24,
     "metadata": {},
     "output_type": "execute_result"
    }
   ],
   "source": [
    "box1 = np.array([436,379,67.81,58.51])\n",
    "box2 = np.array([442,379,58.75,57.65])\n",
    "calculate_iou(box1, box2, form='coco')"
   ]
  },
  {
   "cell_type": "code",
   "execution_count": 25,
   "metadata": {},
   "outputs": [
    {
     "data": {
      "text/plain": [
       "0.8004881869094719"
      ]
     },
     "execution_count": 25,
     "metadata": {},
     "output_type": "execute_result"
    }
   ],
   "source": [
    "box1 = np.array([381,386,56.62,52.59])\n",
    "box2 = np.array([382,390,54.96,55.36])\n",
    "calculate_iou(box1, box2, form='coco')"
   ]
  },
  {
   "cell_type": "code",
   "execution_count": 26,
   "metadata": {},
   "outputs": [
    {
     "data": {
      "text/plain": [
       "0.886396756392214"
      ]
     },
     "execution_count": 26,
     "metadata": {},
     "output_type": "execute_result"
    }
   ],
   "source": [
    "box1 = np.array([419,423,43.74,50.74])\n",
    "box2 = np.array([416,425,47.03,48.06])\n",
    "calculate_iou(box1, box2, form='coco')"
   ]
  },
  {
   "cell_type": "code",
   "execution_count": 27,
   "metadata": {},
   "outputs": [
    {
     "data": {
      "text/plain": [
       "0.7701725192855768"
      ]
     },
     "execution_count": 27,
     "metadata": {},
     "output_type": "execute_result"
    }
   ],
   "source": [
    "box1 = np.array([368,435,49.59,43.7])\n",
    "box2 = np.array([366,426,50.11,52.06])\n",
    "calculate_iou(box1, box2, form='coco')"
   ]
  },
  {
   "cell_type": "markdown",
   "metadata": {},
   "source": [
    "### Image - siamak-cEVBsYy3gxU-unsplash_jpg.rf.e07e16caf07207f22110b42ecf2d4320.jpg"
   ]
  },
  {
   "cell_type": "code",
   "execution_count": 28,
   "metadata": {},
   "outputs": [
    {
     "data": {
      "text/plain": [
       "0.9618329866788217"
      ]
     },
     "execution_count": 28,
     "metadata": {},
     "output_type": "execute_result"
    }
   ],
   "source": [
    "box1 = np.array([0,85,79.28,212.69])\n",
    "box2 = np.array([0,87,81.28,209.58])\n",
    "calculate_iou(box1, box2, form='coco')"
   ]
  },
  {
   "cell_type": "code",
   "execution_count": 29,
   "metadata": {},
   "outputs": [
    {
     "data": {
      "text/plain": [
       "0.929100437987765"
      ]
     },
     "execution_count": 29,
     "metadata": {},
     "output_type": "execute_result"
    }
   ],
   "source": [
    "box1 = np.array([60,9,171.75,200.47])\n",
    "box2 = np.array([58,0,174.13,206.2])\n",
    "calculate_iou(box1, box2, form='coco')"
   ]
  },
  {
   "cell_type": "code",
   "execution_count": 31,
   "metadata": {},
   "outputs": [
    {
     "data": {
      "text/plain": [
       "0.9404068972477901"
      ]
     },
     "execution_count": 31,
     "metadata": {},
     "output_type": "execute_result"
    }
   ],
   "source": [
    "box1 = np.array([72,125,150.46,194.3])\n",
    "box2 = np.array([67,124,154.49,191.81])\n",
    "calculate_iou(box1, box2, form='coco')"
   ]
  },
  {
   "cell_type": "markdown",
   "metadata": {},
   "source": [
    "### Image - gift-habeshaw-kBhmgL0ngHw-unsplash_jpg.rf.4bcc3183f16d6a93d61822377b341c06.jpg"
   ]
  },
  {
   "cell_type": "code",
   "execution_count": 32,
   "metadata": {},
   "outputs": [
    {
     "data": {
      "text/plain": [
       "0.9105388570061174"
      ]
     },
     "execution_count": 32,
     "metadata": {},
     "output_type": "execute_result"
    }
   ],
   "source": [
    "box1 = np.array([214,0,157.16,110.99])\n",
    "box2 = np.array([216,1,158.98,104.63])\n",
    "calculate_iou(box1, box2, form='coco')"
   ]
  },
  {
   "cell_type": "code",
   "execution_count": 33,
   "metadata": {},
   "outputs": [
    {
     "data": {
      "text/plain": [
       "0.6308332885219091"
      ]
     },
     "execution_count": 33,
     "metadata": {},
     "output_type": "execute_result"
    }
   ],
   "source": [
    "box1 = np.array([378,0,81.29,14.18])\n",
    "box2 = np.array([367,0,73.59,12.91])\n",
    "calculate_iou(box1, box2, form='coco')"
   ]
  },
  {
   "cell_type": "code",
   "execution_count": 34,
   "metadata": {},
   "outputs": [
    {
     "data": {
      "text/plain": [
       "0.9284155026848814"
      ]
     },
     "execution_count": 34,
     "metadata": {},
     "output_type": "execute_result"
    }
   ],
   "source": [
    "box1 = np.array([562,46,107.24,108.53])\n",
    "box2 = np.array([563,44,102.06,111.47])\n",
    "calculate_iou(box1, box2, form='coco')"
   ]
  },
  {
   "cell_type": "code",
   "execution_count": 35,
   "metadata": {},
   "outputs": [
    {
     "data": {
      "text/plain": [
       "0.8276199482784963"
      ]
     },
     "execution_count": 35,
     "metadata": {},
     "output_type": "execute_result"
    }
   ],
   "source": [
    "box1 = np.array([564,4,115.25,101.75] )\n",
    "box2 = np.array([567,3,110.34,118.62])\n",
    "calculate_iou(box1, box2, form='coco')"
   ]
  },
  {
   "cell_type": "code",
   "execution_count": 36,
   "metadata": {},
   "outputs": [
    {
     "data": {
      "text/plain": [
       "0.7029811111368468"
      ]
     },
     "execution_count": 36,
     "metadata": {},
     "output_type": "execute_result"
    }
   ],
   "source": [
    "box1 = np.array([648,59,102.9,100.51] )\n",
    "box2 = np.array([655,55,93.08,84.62])\n",
    "calculate_iou(box1, box2, form='coco')"
   ]
  },
  {
   "cell_type": "code",
   "execution_count": 37,
   "metadata": {},
   "outputs": [
    {
     "data": {
      "text/plain": [
       "0.8513467430749581"
      ]
     },
     "execution_count": 37,
     "metadata": {},
     "output_type": "execute_result"
    }
   ],
   "source": [
    "box1 = np.array([1238,2,122.62,118.39])\n",
    "box2 = np.array([1242,4,108.48,113.77])\n",
    "calculate_iou(box1, box2, form='coco')"
   ]
  },
  {
   "cell_type": "code",
   "execution_count": 38,
   "metadata": {},
   "outputs": [
    {
     "data": {
      "text/plain": [
       "0.9039950603785094"
      ]
     },
     "execution_count": 38,
     "metadata": {},
     "output_type": "execute_result"
    }
   ],
   "source": [
    "box1 = np.array([1333,0,124.44,114.69] )\n",
    "box2 = np.array([1340,1,116.09,116.62])\n",
    "calculate_iou(box1, box2, form='coco')"
   ]
  },
  {
   "cell_type": "code",
   "execution_count": 40,
   "metadata": {},
   "outputs": [
    {
     "data": {
      "text/plain": [
       "0.7348320472015555"
      ]
     },
     "execution_count": 40,
     "metadata": {},
     "output_type": "execute_result"
    }
   ],
   "source": [
    "box1 = np.array([1313,100,97.94,86.33])\n",
    "box2 = np.array([1292,90,118.36,96.51])\n",
    "calculate_iou(box1, box2, form='coco')"
   ]
  },
  {
   "cell_type": "markdown",
   "metadata": {},
   "source": [
    "### Image - miops-trigger-sy0HX0_mzG0-unsplash_jpg.rf.dde7f7af38757ec63b094108aed277c0.jpg"
   ]
  },
  {
   "cell_type": "code",
   "execution_count": 41,
   "metadata": {},
   "outputs": [
    {
     "data": {
      "text/plain": [
       "0.983601318573747"
      ]
     },
     "execution_count": 41,
     "metadata": {},
     "output_type": "execute_result"
    }
   ],
   "source": [
    "box1 = np.array([429,125,453.47,329.51])\n",
    "box2 = np.array([429,125,456.87,326.5])\n",
    "calculate_iou(box1, box2, form='coco')"
   ]
  },
  {
   "cell_type": "code",
   "execution_count": 42,
   "metadata": {},
   "outputs": [
    {
     "data": {
      "text/plain": [
       "0.9740565228849222"
      ]
     },
     "execution_count": 42,
     "metadata": {},
     "output_type": "execute_result"
    }
   ],
   "source": [
    "box1 = np.array([859,12,424.62,386.1])\n",
    "box2 = np.array([857,14,422.27,386.52])\n",
    "calculate_iou(box1, box2, form='coco')"
   ]
  },
  {
   "cell_type": "code",
   "execution_count": null,
   "metadata": {},
   "outputs": [],
   "source": []
  }
 ],
 "metadata": {
  "colab": {
   "provenance": []
  },
  "kernelspec": {
   "display_name": "Python 3 (ipykernel)",
   "language": "python",
   "name": "python3"
  },
  "language_info": {
   "codemirror_mode": {
    "name": "ipython",
    "version": 3
   },
   "file_extension": ".py",
   "mimetype": "text/x-python",
   "name": "python",
   "nbconvert_exporter": "python",
   "pygments_lexer": "ipython3",
   "version": "3.9.7"
  }
 },
 "nbformat": 4,
 "nbformat_minor": 1
}
