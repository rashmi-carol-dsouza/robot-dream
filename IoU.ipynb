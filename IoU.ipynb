{
  "nbformat": 4,
  "nbformat_minor": 0,
  "metadata": {
    "colab": {
      "provenance": []
    },
    "kernelspec": {
      "name": "python3",
      "display_name": "Python 3"
    },
    "language_info": {
      "name": "python"
    }
  },
  "cells": [
    {
      "cell_type": "markdown",
      "source": [
        "Importing necessary libraries"
      ],
      "metadata": {
        "id": "01ALbgM5dTbr"
      }
    },
    {
      "cell_type": "code",
      "execution_count": 1,
      "metadata": {
        "id": "ABB6KxaL4eYX"
      },
      "outputs": [],
      "source": [
        "import pandas as pd\n",
        "import numpy as np\n",
        "import numba\n",
        "import re\n",
        "import cv2\n",
        "import ast\n",
        "import matplotlib.pyplot as plt\n",
        "\n",
        "from numba import jit\n",
        "from typing import List, Union, Tuple"
      ]
    },
    {
      "cell_type": "markdown",
      "source": [
        "Function to calculate IoU"
      ],
      "metadata": {
        "id": "HDvxZoXsdaKp"
      }
    },
    {
      "cell_type": "code",
      "source": [
        "@jit(nopython=True)\n",
        "def calculate_iou(gt, pr, form='pascal_voc') -> float:\n",
        "    \"\"\"Calculates the Intersection over Union.\n",
        "\n",
        "    Args:\n",
        "        gt: (np.ndarray[Union[int, float]]) coordinates of the ground-truth box\n",
        "        pr: (np.ndarray[Union[int, float]]) coordinates of the prdected box\n",
        "        form: (str) gt/pred coordinates format\n",
        "            - pascal_voc: [xmin, ymin, xmax, ymax]\n",
        "            - coco: [xmin, ymin, w, h]\n",
        "    Returns:\n",
        "        (float) Intersection over union (0.0 <= iou <= 1.0)\n",
        "    \"\"\"\n",
        "    if form == 'coco':\n",
        "        gt = gt.copy()\n",
        "        pr = pr.copy()\n",
        "\n",
        "        gt[2] = gt[0] + gt[2]\n",
        "        gt[3] = gt[1] + gt[3]\n",
        "        pr[2] = pr[0] + pr[2]\n",
        "        pr[3] = pr[1] + pr[3]\n",
        "\n",
        "    # Calculate overlap area\n",
        "    dx = min(gt[2], pr[2]) - max(gt[0], pr[0]) + 1\n",
        "    \n",
        "    if dx < 0:\n",
        "        return 0.0\n",
        "    \n",
        "    dy = min(gt[3], pr[3]) - max(gt[1], pr[1]) + 1\n",
        "\n",
        "    if dy < 0:\n",
        "        return 0.0\n",
        "\n",
        "    overlap_area = dx * dy\n",
        "\n",
        "    # Calculate union area\n",
        "    union_area = (\n",
        "            (gt[2] - gt[0] + 1) * (gt[3] - gt[1] + 1) +\n",
        "            (pr[2] - pr[0] + 1) * (pr[3] - pr[1] + 1) -\n",
        "            overlap_area\n",
        "    )\n",
        "\n",
        "    return overlap_area / union_area"
      ],
      "metadata": {
        "id": "p6GD4ga-4k_g"
      },
      "execution_count": 2,
      "outputs": []
    },
    {
      "cell_type": "markdown",
      "source": [
        "Enter the bounding box for the ground truth (box 1) followed by the bounding box of the predicted model(box 2)"
      ],
      "metadata": {
        "id": "T3ItcWtddkuG"
      }
    },
    {
      "cell_type": "code",
      "source": [
        "box1 = np.array([297,204,309.5,412.5])\n",
        "box2 = np.array([0,218,309,412])"
      ],
      "metadata": {
        "id": "fwuwa_nD-MKA"
      },
      "execution_count": 4,
      "outputs": []
    },
    {
      "cell_type": "markdown",
      "source": [
        "Calculate the IoU by filling the function with the bounding boxes"
      ],
      "metadata": {
        "id": "-KB1p22Wdy3G"
      }
    },
    {
      "cell_type": "code",
      "source": [
        "calculate_iou(box1, box2, form='coco')"
      ],
      "metadata": {
        "colab": {
          "base_uri": "https://localhost:8080/"
        },
        "id": "4VzwNwxR_VN5",
        "outputId": "2cb734fe-ed60-44f4-cb22-c31fffa47d8e"
      },
      "execution_count": 5,
      "outputs": [
        {
          "output_type": "execute_result",
          "data": {
            "text/plain": [
              "0.02067243632035808"
            ]
          },
          "metadata": {},
          "execution_count": 5
        }
      ]
    },
    {
      "cell_type": "code",
      "source": [
        "box1 = np.array([297,204,309.5,412.5])\n",
        "box2 = np.array([100,29,309.5,412.5])"
      ],
      "metadata": {
        "id": "iJpbgEkM_WSp"
      },
      "execution_count": 10,
      "outputs": []
    },
    {
      "cell_type": "code",
      "source": [
        "calculate_iou(box1, box2, form='coco')"
      ],
      "metadata": {
        "colab": {
          "base_uri": "https://localhost:8080/"
        },
        "id": "p3oNjaPaCJmG",
        "outputId": "b2feee95-1815-47d0-d750-fa1b48375928"
      },
      "execution_count": 11,
      "outputs": [
        {
          "output_type": "execute_result",
          "data": {
            "text/plain": [
              "0.11784122630883001"
            ]
          },
          "metadata": {},
          "execution_count": 11
        }
      ]
    },
    {
      "cell_type": "code",
      "source": [
        "box1 = np.array([297,204,309.5,412.5])\n",
        "box2 = np.array([279,134,309.5,412.5])"
      ],
      "metadata": {
        "id": "TN7vMdCYCKhK"
      },
      "execution_count": 8,
      "outputs": []
    },
    {
      "cell_type": "code",
      "source": [
        "calculate_iou(box1, box2, form='coco')"
      ],
      "metadata": {
        "colab": {
          "base_uri": "https://localhost:8080/"
        },
        "id": "BxcxjsMbDNOG",
        "outputId": "a0bdc3eb-a128-47b6-fa32-ccfa64f62e1e"
      },
      "execution_count": 9,
      "outputs": [
        {
          "output_type": "execute_result",
          "data": {
            "text/plain": [
              "0.6427861985576715"
            ]
          },
          "metadata": {},
          "execution_count": 9
        }
      ]
    }
  ]
}